{
 "metadata": {
  "name": "analysis"
 },
 "nbformat": 3,
 "nbformat_minor": 0,
 "worksheets": [
  {
   "cells": [
    {
     "cell_type": "markdown",
     "metadata": {},
     "source": [
      "# Random Walk Statistics"
     ]
    },
    {
     "cell_type": "code",
     "collapsed": false,
     "input": [
      "import os\n",
      "import sys\n",
      "import numpy\n",
      "import networkx as nx"
     ],
     "language": "python",
     "metadata": {},
     "outputs": [],
     "prompt_number": 1
    },
    {
     "cell_type": "code",
     "collapsed": false,
     "input": [
      "sys.path.insert(0, \"..\")\n",
      "import foggy"
     ],
     "language": "python",
     "metadata": {},
     "outputs": [],
     "prompt_number": 2
    },
    {
     "cell_type": "code",
     "collapsed": false,
     "input": [
      "base_dir = \"Data\""
     ],
     "language": "python",
     "metadata": {},
     "outputs": [],
     "prompt_number": 5
    },
    {
     "cell_type": "code",
     "collapsed": false,
     "input": [
      "filename = os.path.join(base_dir, \"network.pkl\")\n",
      "network = nx.read_gpickle(filename)\n",
      "if network.is_directed():\n",
      "    print \"directed network with:\"\n",
      "else:\n",
      "    print \"undirected network with:\"\n",
      "print \"\\t\", len(network), \"nodes\"\n",
      "print \"\\t\", network.size(), \"links\""
     ],
     "language": "python",
     "metadata": {},
     "outputs": [
      {
       "output_type": "stream",
       "stream": "stdout",
       "text": [
        "undirected network with:\n",
        "\t1000 nodes\n",
        "\t2991 links\n"
       ]
      }
     ],
     "prompt_number": 6
    },
    {
     "cell_type": "code",
     "collapsed": false,
     "input": [
      "filename = os.path.join(base_dir, \"node2id.pkl\")\n",
      "indices = nx.read_gpickle(filename)"
     ],
     "language": "python",
     "metadata": {},
     "outputs": [],
     "prompt_number": 7
    },
    {
     "cell_type": "code",
     "collapsed": false,
     "input": [
      "degree = numpy.zeros(len(network), dtype=int)\n",
      "for (node, deg) in network.degree_iter():\n",
      "    degree[indices[node]] = deg"
     ],
     "language": "python",
     "metadata": {},
     "outputs": [],
     "prompt_number": 8
    },
    {
     "cell_type": "markdown",
     "metadata": {},
     "source": [
      "First random walk with a constant number of walkers, that is, one for each node in the network and over 100 time steps. The walkers perform ten times the number of nodes steps."
     ]
    },
    {
     "cell_type": "code",
     "collapsed": false,
     "input": [
      "import pandas"
     ],
     "language": "python",
     "metadata": {},
     "outputs": [],
     "prompt_number": 9
    },
    {
     "cell_type": "code",
     "collapsed": false,
     "input": [
      "from glob import glob"
     ],
     "language": "python",
     "metadata": {},
     "outputs": [],
     "prompt_number": 10
    },
    {
     "cell_type": "code",
     "collapsed": false,
     "input": [
      "def to_hdf5(df, h5_file):\n",
      "    df.to_csv(h5_file, index=False)"
     ],
     "language": "python",
     "metadata": {},
     "outputs": [],
     "prompt_number": 12
    },
    {
     "cell_type": "code",
     "collapsed": false,
     "input": [
      "def to_hdf5(df, h5_file):\n",
      "    h5_file = tables.openFile(os.path.join(dest, \"attributes.h5\"), mode=\"a\",\n",
      "            title=\"Flow Networks Attribute Database\")\n",
      "    table = h5_file.createTable(group, \"phase_1\", NetworkStats,\n",
      "                        \"Results of evolution phase 1, i.e., pattern recognition.\")\n"
     ],
     "language": "python",
     "metadata": {},
     "outputs": []
    },
    {
     "cell_type": "code",
     "collapsed": false,
     "input": [
      "def get_dataframe(filename):\n",
      "    activity = numpy.load(filename)\n",
      "    mean = activity.mean(axis=1)\n",
      "    std = activity.std(axis=1, ddof=1)\n",
      "    (internal, external) = foggy.internal_dynamics_external_fluctuations(activity)\n",
      "    return pandas.DataFrame(dict(mean=mean, std=std, internal=internal, external=external, degree=degree))"
     ],
     "language": "python",
     "metadata": {},
     "outputs": [],
     "prompt_number": 13
    },
    {
     "cell_type": "code",
     "collapsed": false,
     "input": [
      "for filename in sorted(glob(os.path.join(base_dir, \"*.npy\"))):\n",
      "    name = os.path.basename(filename)[:-4]\n",
      "    print name\n",
      "    df = get_dataframe(filename)\n",
      "    to_hdf5(df, os.path.join(base_dir, name + \".csv\"))"
     ],
     "language": "python",
     "metadata": {},
     "outputs": [
      {
       "output_type": "stream",
       "stream": "stdout",
       "text": [
        "uniform_random_walk\n",
        "uniform_random_walk_cut_transient"
       ]
      },
      {
       "output_type": "stream",
       "stream": "stdout",
       "text": [
        "\n",
        "uniform_random_walk_mu"
       ]
      },
      {
       "output_type": "stream",
       "stream": "stdout",
       "text": [
        "\n",
        "uniform_random_walk_mu_cut_transient"
       ]
      },
      {
       "output_type": "stream",
       "stream": "stdout",
       "text": [
        "\n",
        "varied_uniform_random_walk"
       ]
      },
      {
       "output_type": "stream",
       "stream": "stdout",
       "text": [
        "\n",
        "varied_uniform_random_walk_cut_transient"
       ]
      },
      {
       "output_type": "stream",
       "stream": "stdout",
       "text": [
        "\n",
        "varied_uniform_random_walk_mu"
       ]
      },
      {
       "output_type": "stream",
       "stream": "stdout",
       "text": [
        "\n",
        "varied_uniform_random_walk_mu_cut_transient"
       ]
      },
      {
       "output_type": "stream",
       "stream": "stdout",
       "text": [
        "\n"
       ]
      }
     ],
     "prompt_number": 14
    },
    {
     "cell_type": "code",
     "collapsed": false,
     "input": [
      "def get_capacity_dataframe(filename):\n",
      "    name = os.path.basename(filename)\n",
      "    tmp = numpy.load(filename)\n",
      "    activity = tmp[\"activity\"]\n",
      "    mean = activity.mean(axis=1)\n",
      "    std = activity.std(axis=1, ddof=1)\n",
      "    (internal, external) = foggy.internal_dynamics_external_fluctuations(activity)\n",
      "    if name.startswith(\"buffered\"):\n",
      "        backlog = tmp[\"backlog\"]\n",
      "        return pandas.DataFrame(dict(mean=mean, std=std, internal=internal, external=external, backlog=backlog.sum(axis=1), degree=degree))\n",
      "    elif name.startswith(\"deletory\"):\n",
      "        removed = tmp[\"removed\"]\n",
      "        return pandas.DataFrame(dict(mean=mean, std=std, internal=internal, external=external, removed=removed.sum(axis=1), degree=degree))\n",
      "    else:\n",
      "        raise RuntimeError(\"unknown random walk\")"
     ],
     "language": "python",
     "metadata": {},
     "outputs": [],
     "prompt_number": 15
    },
    {
     "cell_type": "code",
     "collapsed": false,
     "input": [
      "for filename in sorted(glob(os.path.join(base_dir, \"*.npz\"))):\n",
      "    name = os.path.basename(filename)[:-4]\n",
      "    print name\n",
      "    df = get_capacity_dataframe(filename)\n",
      "    to_hdf5(df, os.path.join(base_dir, name + \".csv\"))"
     ],
     "language": "python",
     "metadata": {},
     "outputs": [
      {
       "output_type": "stream",
       "stream": "stdout",
       "text": [
        "buffered_uniform_random_walk_degree_capacity_1\n",
        "buffered_uniform_random_walk_degree_capacity_16"
       ]
      },
      {
       "output_type": "stream",
       "stream": "stdout",
       "text": [
        "\n",
        "buffered_uniform_random_walk_degree_capacity_2"
       ]
      },
      {
       "output_type": "stream",
       "stream": "stdout",
       "text": [
        "\n",
        "buffered_uniform_random_walk_degree_capacity_4"
       ]
      },
      {
       "output_type": "stream",
       "stream": "stdout",
       "text": [
        "\n",
        "buffered_uniform_random_walk_degree_capacity_8"
       ]
      },
      {
       "output_type": "stream",
       "stream": "stdout",
       "text": [
        "\n",
        "buffered_uniform_random_walk_uniform_capacity_1"
       ]
      },
      {
       "output_type": "stream",
       "stream": "stdout",
       "text": [
        "\n",
        "buffered_uniform_random_walk_uniform_capacity_16"
       ]
      },
      {
       "output_type": "stream",
       "stream": "stdout",
       "text": [
        "\n",
        "buffered_uniform_random_walk_uniform_capacity_2"
       ]
      },
      {
       "output_type": "stream",
       "stream": "stdout",
       "text": [
        "\n",
        "buffered_uniform_random_walk_uniform_capacity_4"
       ]
      },
      {
       "output_type": "stream",
       "stream": "stdout",
       "text": [
        "\n",
        "buffered_uniform_random_walk_uniform_capacity_8"
       ]
      },
      {
       "output_type": "stream",
       "stream": "stdout",
       "text": [
        "\n",
        "buffered_varied_uniform_random_walk_degree_capacity_1"
       ]
      },
      {
       "output_type": "stream",
       "stream": "stdout",
       "text": [
        "\n",
        "buffered_varied_uniform_random_walk_degree_capacity_16"
       ]
      },
      {
       "output_type": "stream",
       "stream": "stdout",
       "text": [
        "\n",
        "buffered_varied_uniform_random_walk_degree_capacity_2"
       ]
      },
      {
       "output_type": "stream",
       "stream": "stdout",
       "text": [
        "\n",
        "buffered_varied_uniform_random_walk_degree_capacity_4"
       ]
      },
      {
       "output_type": "stream",
       "stream": "stdout",
       "text": [
        "\n",
        "buffered_varied_uniform_random_walk_degree_capacity_8"
       ]
      },
      {
       "output_type": "stream",
       "stream": "stdout",
       "text": [
        "\n",
        "buffered_varied_uniform_random_walk_uniform_capacity_1"
       ]
      },
      {
       "output_type": "stream",
       "stream": "stdout",
       "text": [
        "\n",
        "buffered_varied_uniform_random_walk_uniform_capacity_16"
       ]
      },
      {
       "output_type": "stream",
       "stream": "stdout",
       "text": [
        "\n",
        "buffered_varied_uniform_random_walk_uniform_capacity_2"
       ]
      },
      {
       "output_type": "stream",
       "stream": "stdout",
       "text": [
        "\n",
        "buffered_varied_uniform_random_walk_uniform_capacity_4"
       ]
      },
      {
       "output_type": "stream",
       "stream": "stdout",
       "text": [
        "\n",
        "buffered_varied_uniform_random_walk_uniform_capacity_8"
       ]
      },
      {
       "output_type": "stream",
       "stream": "stdout",
       "text": [
        "\n",
        "deletory_uniform_random_walk_degree_capacity_1"
       ]
      },
      {
       "output_type": "stream",
       "stream": "stdout",
       "text": [
        "\n",
        "deletory_uniform_random_walk_degree_capacity_16"
       ]
      },
      {
       "output_type": "stream",
       "stream": "stdout",
       "text": [
        "\n",
        "deletory_uniform_random_walk_degree_capacity_2"
       ]
      },
      {
       "output_type": "stream",
       "stream": "stdout",
       "text": [
        "\n",
        "deletory_uniform_random_walk_degree_capacity_4"
       ]
      },
      {
       "output_type": "stream",
       "stream": "stdout",
       "text": [
        "\n",
        "deletory_uniform_random_walk_degree_capacity_8"
       ]
      },
      {
       "output_type": "stream",
       "stream": "stdout",
       "text": [
        "\n",
        "deletory_uniform_random_walk_uniform_capacity_1"
       ]
      },
      {
       "output_type": "stream",
       "stream": "stdout",
       "text": [
        "\n",
        "deletory_uniform_random_walk_uniform_capacity_16"
       ]
      },
      {
       "output_type": "stream",
       "stream": "stdout",
       "text": [
        "\n",
        "deletory_uniform_random_walk_uniform_capacity_2"
       ]
      },
      {
       "output_type": "stream",
       "stream": "stdout",
       "text": [
        "\n",
        "deletory_uniform_random_walk_uniform_capacity_4"
       ]
      },
      {
       "output_type": "stream",
       "stream": "stdout",
       "text": [
        "\n",
        "deletory_uniform_random_walk_uniform_capacity_8"
       ]
      },
      {
       "output_type": "stream",
       "stream": "stdout",
       "text": [
        "\n",
        "deletory_varied_uniform_random_walk_degree_capacity_1"
       ]
      },
      {
       "output_type": "stream",
       "stream": "stdout",
       "text": [
        "\n",
        "deletory_varied_uniform_random_walk_degree_capacity_16"
       ]
      },
      {
       "output_type": "stream",
       "stream": "stdout",
       "text": [
        "\n",
        "deletory_varied_uniform_random_walk_degree_capacity_2"
       ]
      },
      {
       "output_type": "stream",
       "stream": "stdout",
       "text": [
        "\n",
        "deletory_varied_uniform_random_walk_degree_capacity_4"
       ]
      },
      {
       "output_type": "stream",
       "stream": "stdout",
       "text": [
        "\n",
        "deletory_varied_uniform_random_walk_degree_capacity_8"
       ]
      },
      {
       "output_type": "stream",
       "stream": "stdout",
       "text": [
        "\n",
        "deletory_varied_uniform_random_walk_uniform_capacity_1"
       ]
      },
      {
       "output_type": "stream",
       "stream": "stdout",
       "text": [
        "\n",
        "deletory_varied_uniform_random_walk_uniform_capacity_16"
       ]
      },
      {
       "output_type": "stream",
       "stream": "stdout",
       "text": [
        "\n",
        "deletory_varied_uniform_random_walk_uniform_capacity_2"
       ]
      },
      {
       "output_type": "stream",
       "stream": "stdout",
       "text": [
        "\n",
        "deletory_varied_uniform_random_walk_uniform_capacity_4"
       ]
      },
      {
       "output_type": "stream",
       "stream": "stdout",
       "text": [
        "\n",
        "deletory_varied_uniform_random_walk_uniform_capacity_8"
       ]
      },
      {
       "output_type": "stream",
       "stream": "stdout",
       "text": [
        "\n"
       ]
      }
     ],
     "prompt_number": 16
    }
   ],
   "metadata": {}
  }
 ]
}