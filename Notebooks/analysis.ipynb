{
 "metadata": {
  "name": ""
 },
 "nbformat": 3,
 "nbformat_minor": 0,
 "worksheets": [
  {
   "cells": [
    {
     "cell_type": "markdown",
     "metadata": {},
     "source": [
      "# Random Walk Statistics"
     ]
    },
    {
     "cell_type": "code",
     "collapsed": false,
     "input": [
      "import os\n",
      "import sys\n",
      "import numpy\n",
      "import networkx as nx"
     ],
     "language": "python",
     "metadata": {},
     "outputs": []
    },
    {
     "cell_type": "code",
     "collapsed": false,
     "input": [
      "sys.path.insert(0, \"..\")\n",
      "import foggy"
     ],
     "language": "python",
     "metadata": {},
     "outputs": []
    },
    {
     "cell_type": "code",
     "collapsed": false,
     "input": [
      "base_dir = \"Data\""
     ],
     "language": "python",
     "metadata": {},
     "outputs": []
    },
    {
     "cell_type": "code",
     "collapsed": false,
     "input": [
      "filename = os.path.join(base_dir, \"network.pkl\")\n",
      "network = nx.read_gpickle(filename)\n",
      "if network.is_directed():\n",
      "    print \"directed network with:\"\n",
      "else:\n",
      "    print \"undirected network with:\"\n",
      "print \"\\t\", len(network), \"nodes\"\n",
      "print \"\\t\", network.size(), \"links\""
     ],
     "language": "python",
     "metadata": {},
     "outputs": []
    },
    {
     "cell_type": "code",
     "collapsed": false,
     "input": [
      "filename = os.path.join(base_dir, \"node2id.pkl\")\n",
      "indices = nx.read_gpickle(filename)"
     ],
     "language": "python",
     "metadata": {},
     "outputs": []
    },
    {
     "cell_type": "code",
     "collapsed": false,
     "input": [
      "degree = numpy.zeros(len(network), dtype=int)\n",
      "for (node, deg) in network.degree_iter():\n",
      "    degree[indices[node]] = deg"
     ],
     "language": "python",
     "metadata": {},
     "outputs": []
    },
    {
     "cell_type": "markdown",
     "metadata": {},
     "source": [
      "First random walk with a constant number of walkers, that is, one for each node in the network and over 100 time steps. The walkers perform ten times the number of nodes steps."
     ]
    },
    {
     "cell_type": "code",
     "collapsed": false,
     "input": [
      "import pandas"
     ],
     "language": "python",
     "metadata": {},
     "outputs": []
    },
    {
     "cell_type": "code",
     "collapsed": false,
     "input": [
      "from glob import glob"
     ],
     "language": "python",
     "metadata": {},
     "outputs": []
    },
    {
     "cell_type": "code",
     "collapsed": false,
     "input": [
      "def to_hdf5(df, h5_file):\n",
      "    df.to_csv(h5_file, index=False)"
     ],
     "language": "python",
     "metadata": {},
     "outputs": []
    },
    {
     "cell_type": "code",
     "collapsed": false,
     "input": [
      "def to_hdf5(df, h5_file):\n",
      "    h5_file = tables.openFile(os.path.join(dest, \"attributes.h5\"), mode=\"a\",\n",
      "            title=\"Flow Networks Attribute Database\")\n",
      "    table = h5_file.createTable(group, \"phase_1\", NetworkStats,\n",
      "                        \"Results of evolution phase 1, i.e., pattern recognition.\")\n"
     ],
     "language": "python",
     "metadata": {},
     "outputs": []
    },
    {
     "cell_type": "code",
     "collapsed": false,
     "input": [
      "def get_dataframe(filename):\n",
      "    activity = numpy.load(filename)\n",
      "    mean = activity.mean(axis=1)\n",
      "    std = activity.std(axis=1, ddof=1)\n",
      "    (internal, external) = foggy.internal_dynamics_external_fluctuations(activity)\n",
      "    return pandas.DataFrame(dict(mean=mean, std=std, internal=internal, external=external, degree=degree))"
     ],
     "language": "python",
     "metadata": {},
     "outputs": []
    },
    {
     "cell_type": "code",
     "collapsed": false,
     "input": [
      "for filename in sorted(glob(os.path.join(base_dir, \"*.npy\"))):\n",
      "    name = os.path.basename(filename)[:-4]\n",
      "    print name\n",
      "    df = get_dataframe(filename)\n",
      "    to_hdf5(df, os.path.join(base_dir, name + \".csv\"))"
     ],
     "language": "python",
     "metadata": {},
     "outputs": []
    },
    {
     "cell_type": "code",
     "collapsed": false,
     "input": [
      "def get_capacity_dataframe(filename):\n",
      "    name = os.path.basename(filename)\n",
      "    tmp = numpy.load(filename)\n",
      "    activity = tmp[\"activity\"]\n",
      "    mean = activity.mean(axis=1)\n",
      "    std = activity.std(axis=1, ddof=1)\n",
      "    (internal, external) = foggy.internal_dynamics_external_fluctuations(activity)\n",
      "    hits = tmp[\"hits\"]\n",
      "    capacity = tmp[\"capacity\"]\n",
      "    return pandas.DataFrame(dict(node=numpy.arange(mean.shape[0], dtype=int), mean=mean, std=std,\n",
      "                                 internal=internal, external=external, stopped=hits.sum(axis=1),\n",
      "                                 degree=degree, capacity=capacity, capacity_total=int(capacity.sum())))"
     ],
     "language": "python",
     "metadata": {},
     "outputs": []
    },
    {
     "cell_type": "code",
     "collapsed": false,
     "input": [
      "import re"
     ],
     "language": "python",
     "metadata": {},
     "outputs": []
    },
    {
     "cell_type": "code",
     "collapsed": false,
     "input": [
      "def tabulate_results(base_dir, base_name):\n",
      "    data = list()\n",
      "    file_pattern = re.compile(r\"%s_(\\d+)_(.+)\\.npz\" % base_name)\n",
      "    for filename in glob(os.path.join(base_dir, \"*.npz\")):\n",
      "        mobj = file_pattern.search(filename)\n",
      "        if not mobj:\n",
      "            continue\n",
      "        df = get_capacity_dataframe(filename)\n",
      "        a = int(mobj.group(1))\n",
      "        b = int(df[\"capacity\"].sum())\n",
      "        assert a == b, \"%d != %d\" % (a, b)\n",
      "        data.append(df)\n",
      "    if not data:\n",
      "        return\n",
      "    df = pandas.concat(data, ignore_index=True)\n",
      "    to_hdf5(df, os.path.join(base_dir, base_name + \".csv\"))"
     ],
     "language": "python",
     "metadata": {},
     "outputs": []
    },
    {
     "cell_type": "code",
     "collapsed": false,
     "input": [
      "tabulate_results(base_dir, \"buffered_uniform_random_walk_degree_capacity\")"
     ],
     "language": "python",
     "metadata": {},
     "outputs": []
    },
    {
     "cell_type": "code",
     "collapsed": false,
     "input": [
      "tabulate_results(base_dir, \"buffered_uniform_random_walk_uniform_capacity\")"
     ],
     "language": "python",
     "metadata": {},
     "outputs": []
    },
    {
     "cell_type": "code",
     "collapsed": false,
     "input": [
      "tabulate_results(base_dir, \"buffered_uniform_random_walk_uniform_capacity_cut_transient\")"
     ],
     "language": "python",
     "metadata": {},
     "outputs": []
    },
    {
     "cell_type": "code",
     "collapsed": false,
     "input": [
      "tabulate_results(base_dir, \"buffered_varied_uniform_random_walk_degree_capacity\")"
     ],
     "language": "python",
     "metadata": {},
     "outputs": []
    },
    {
     "cell_type": "code",
     "collapsed": false,
     "input": [
      "tabulate_results(base_dir, \"buffered_varied_uniform_random_walk_uniform_capacity\")"
     ],
     "language": "python",
     "metadata": {},
     "outputs": []
    },
    {
     "cell_type": "code",
     "collapsed": false,
     "input": [
      "tabulate_results(base_dir, \"deletory_uniform_random_walk_degree_capacity\")"
     ],
     "language": "python",
     "metadata": {},
     "outputs": []
    },
    {
     "cell_type": "code",
     "collapsed": false,
     "input": [
      "tabulate_results(base_dir, \"deletory_uniform_random_walk_uniform_capacity\")"
     ],
     "language": "python",
     "metadata": {},
     "outputs": []
    },
    {
     "cell_type": "code",
     "collapsed": false,
     "input": [
      "tabulate_results(base_dir, \"deletory_varied_uniform_random_walk_degree_capacity\")"
     ],
     "language": "python",
     "metadata": {},
     "outputs": []
    },
    {
     "cell_type": "code",
     "collapsed": false,
     "input": [
      "tabulate_results(base_dir, \"deletory_varied_uniform_random_walk_uniform_capacity\")"
     ],
     "language": "python",
     "metadata": {},
     "outputs": []
    }
   ],
   "metadata": {}
  }
 ]
}