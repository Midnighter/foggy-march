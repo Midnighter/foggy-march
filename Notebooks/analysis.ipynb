{
 "metadata": {
  "name": ""
 },
 "nbformat": 3,
 "nbformat_minor": 0,
 "worksheets": [
  {
   "cells": [
    {
     "cell_type": "markdown",
     "metadata": {},
     "source": [
      "# Random Walk Statistics"
     ]
    },
    {
     "cell_type": "code",
     "collapsed": false,
     "input": [
      "import os\n",
      "import sys\n",
      "import numpy\n",
      "import networkx as nx"
     ],
     "language": "python",
     "metadata": {},
     "outputs": [],
     "prompt_number": 1
    },
    {
     "cell_type": "code",
     "collapsed": false,
     "input": [
      "sys.path.insert(0, \"..\")\n",
      "import foggy"
     ],
     "language": "python",
     "metadata": {},
     "outputs": [],
     "prompt_number": 2
    },
    {
     "cell_type": "code",
     "collapsed": false,
     "input": [
      "base_dir = \"Data\""
     ],
     "language": "python",
     "metadata": {},
     "outputs": [],
     "prompt_number": 3
    },
    {
     "cell_type": "code",
     "collapsed": false,
     "input": [
      "filename = os.path.join(base_dir, \"network.pkl\")\n",
      "network = nx.read_gpickle(filename)\n",
      "if network.is_directed():\n",
      "    print \"directed network with:\"\n",
      "else:\n",
      "    print \"undirected network with:\"\n",
      "print \"\\t\", len(network), \"nodes\"\n",
      "print \"\\t\", network.size(), \"links\""
     ],
     "language": "python",
     "metadata": {},
     "outputs": [
      {
       "output_type": "stream",
       "stream": "stdout",
       "text": [
        "undirected network with:\n",
        "\t1000 nodes\n",
        "\t2991 links\n"
       ]
      }
     ],
     "prompt_number": 4
    },
    {
     "cell_type": "code",
     "collapsed": false,
     "input": [
      "filename = os.path.join(base_dir, \"node2id.pkl\")\n",
      "indices = nx.read_gpickle(filename)"
     ],
     "language": "python",
     "metadata": {},
     "outputs": [],
     "prompt_number": 5
    },
    {
     "cell_type": "code",
     "collapsed": false,
     "input": [
      "degree = numpy.zeros(len(network), dtype=int)\n",
      "for (node, deg) in network.degree_iter():\n",
      "    degree[indices[node]] = deg"
     ],
     "language": "python",
     "metadata": {},
     "outputs": [],
     "prompt_number": 6
    },
    {
     "cell_type": "markdown",
     "metadata": {},
     "source": [
      "First random walk with a constant number of walkers, that is, one for each node in the network and over 100 time steps. The walkers perform ten times the number of nodes steps."
     ]
    },
    {
     "cell_type": "code",
     "collapsed": false,
     "input": [
      "import pandas"
     ],
     "language": "python",
     "metadata": {},
     "outputs": [],
     "prompt_number": 7
    },
    {
     "cell_type": "code",
     "collapsed": false,
     "input": [
      "from glob import glob"
     ],
     "language": "python",
     "metadata": {},
     "outputs": [],
     "prompt_number": 8
    },
    {
     "cell_type": "code",
     "collapsed": false,
     "input": [
      "def to_hdf5(df, h5_file):\n",
      "    df.to_csv(h5_file, index=False)"
     ],
     "language": "python",
     "metadata": {},
     "outputs": [],
     "prompt_number": 9
    },
    {
     "cell_type": "code",
     "collapsed": false,
     "input": [
      "def to_hdf5(df, h5_file):\n",
      "    h5_file = tables.openFile(os.path.join(dest, \"attributes.h5\"), mode=\"a\",\n",
      "            title=\"Flow Networks Attribute Database\")\n",
      "    table = h5_file.createTable(group, \"phase_1\", NetworkStats,\n",
      "                        \"Results of evolution phase 1, i.e., pattern recognition.\")\n"
     ],
     "language": "python",
     "metadata": {},
     "outputs": []
    },
    {
     "cell_type": "code",
     "collapsed": false,
     "input": [
      "def get_dataframe(filename):\n",
      "    activity = numpy.load(filename)\n",
      "    mean = activity.mean(axis=1)\n",
      "    std = activity.std(axis=1, ddof=1)\n",
      "    (internal, external) = foggy.internal_dynamics_external_fluctuations(activity)\n",
      "    return pandas.DataFrame(dict(mean=mean, std=std, internal=internal, external=external, degree=degree))"
     ],
     "language": "python",
     "metadata": {},
     "outputs": [],
     "prompt_number": 10
    },
    {
     "cell_type": "code",
     "collapsed": false,
     "input": [
      "for filename in sorted(glob(os.path.join(base_dir, \"*.npy\"))):\n",
      "    name = os.path.basename(filename)[:-4]\n",
      "    print name\n",
      "    df = get_dataframe(filename)\n",
      "    to_hdf5(df, os.path.join(base_dir, name + \".csv\"))"
     ],
     "language": "python",
     "metadata": {},
     "outputs": [
      {
       "output_type": "stream",
       "stream": "stdout",
       "text": [
        "uniform_random_walk\n",
        "uniform_random_walk_cut_transient"
       ]
      },
      {
       "output_type": "stream",
       "stream": "stdout",
       "text": [
        "\n",
        "uniform_random_walk_mu"
       ]
      },
      {
       "output_type": "stream",
       "stream": "stdout",
       "text": [
        "\n",
        "uniform_random_walk_mu_cut_transient"
       ]
      },
      {
       "output_type": "stream",
       "stream": "stdout",
       "text": [
        "\n",
        "varied_uniform_random_walk"
       ]
      },
      {
       "output_type": "stream",
       "stream": "stdout",
       "text": [
        "\n",
        "varied_uniform_random_walk_cut_transient"
       ]
      },
      {
       "output_type": "stream",
       "stream": "stdout",
       "text": [
        "\n",
        "varied_uniform_random_walk_mu"
       ]
      },
      {
       "output_type": "stream",
       "stream": "stdout",
       "text": [
        "\n",
        "varied_uniform_random_walk_mu_cut_transient"
       ]
      },
      {
       "output_type": "stream",
       "stream": "stdout",
       "text": [
        "\n"
       ]
      }
     ],
     "prompt_number": 11
    },
    {
     "cell_type": "code",
     "collapsed": false,
     "input": [
      "def get_capacity_dataframe(filename, k):\n",
      "    name = os.path.basename(filename)\n",
      "    tmp = numpy.load(filename)\n",
      "    activity = tmp[\"activity\"]\n",
      "    mean = activity.mean(axis=1)\n",
      "    std = activity.std(axis=1, ddof=1)\n",
      "    (internal, external) = foggy.internal_dynamics_external_fluctuations(activity)\n",
      "    if name.startswith(\"buffered\"):\n",
      "        backlog = tmp[\"backlog\"]\n",
      "        return pandas.DataFrame(dict(mean=mean, std=std, internal=internal, external=external,\n",
      "                                     backlog=backlog.sum(axis=1), degree=degree, capacity=k))\n",
      "    elif name.startswith(\"deletory\"):\n",
      "        removed = tmp[\"removed\"]\n",
      "        return pandas.DataFrame(dict(mean=mean, std=std, internal=internal, external=external,\n",
      "                                     removed=removed.sum(axis=1), degree=degree, capacity=k))\n",
      "    else:\n",
      "        raise RuntimeError(\"unknown random walk\")"
     ],
     "language": "python",
     "metadata": {},
     "outputs": [],
     "prompt_number": 10
    },
    {
     "cell_type": "code",
     "collapsed": false,
     "input": [
      "factors = [1, 2, 3, 4, 5, 6, 7, 8, 9, 10, 16, 20, 50, 100, 128]"
     ],
     "language": "python",
     "metadata": {},
     "outputs": [],
     "prompt_number": 11
    },
    {
     "cell_type": "code",
     "collapsed": false,
     "input": [
      "def tabulate_results(base_name):\n",
      "    data = list()\n",
      "    for k in factors:\n",
      "        filename = os.path.join(base_dir, \"%s_%d.npz\" % (base_name, k))\n",
      "        if not os.path.exists(filename):\n",
      "            continue\n",
      "        data.append(get_capacity_dataframe(filename, k))\n",
      "    df = pandas.concat(data, ignore_index=True)\n",
      "    to_hdf5(df, os.path.join(base_dir, base_name + \".csv\"))"
     ],
     "language": "python",
     "metadata": {},
     "outputs": [],
     "prompt_number": 12
    },
    {
     "cell_type": "code",
     "collapsed": false,
     "input": [
      "tabulate_results(\"buffered_uniform_random_walk_degree_capacity\")"
     ],
     "language": "python",
     "metadata": {},
     "outputs": [],
     "prompt_number": 13
    },
    {
     "cell_type": "code",
     "collapsed": false,
     "input": [
      "tabulate_results(\"buffered_uniform_random_walk_uniform_capacity\")"
     ],
     "language": "python",
     "metadata": {},
     "outputs": [],
     "prompt_number": 14
    },
    {
     "cell_type": "code",
     "collapsed": false,
     "input": [
      "tabulate_results(\"buffered_varied_uniform_random_walk_degree_capacity\")"
     ],
     "language": "python",
     "metadata": {},
     "outputs": [],
     "prompt_number": 15
    },
    {
     "cell_type": "code",
     "collapsed": false,
     "input": [
      "tabulate_results(\"buffered_varied_uniform_random_walk_uniform_capacity\")"
     ],
     "language": "python",
     "metadata": {},
     "outputs": [],
     "prompt_number": 16
    },
    {
     "cell_type": "code",
     "collapsed": false,
     "input": [
      "tabulate_results(\"deletory_uniform_random_walk_degree_capacity\")"
     ],
     "language": "python",
     "metadata": {},
     "outputs": [],
     "prompt_number": 17
    },
    {
     "cell_type": "code",
     "collapsed": false,
     "input": [
      "tabulate_results(\"deletory_uniform_random_walk_uniform_capacity\")"
     ],
     "language": "python",
     "metadata": {},
     "outputs": [],
     "prompt_number": 18
    },
    {
     "cell_type": "code",
     "collapsed": false,
     "input": [
      "tabulate_results(\"deletory_varied_uniform_random_walk_degree_capacity\")"
     ],
     "language": "python",
     "metadata": {},
     "outputs": [],
     "prompt_number": 19
    },
    {
     "cell_type": "code",
     "collapsed": false,
     "input": [
      "tabulate_results(\"deletory_varied_uniform_random_walk_uniform_capacity\")"
     ],
     "language": "python",
     "metadata": {},
     "outputs": [],
     "prompt_number": 20
    },
    {
     "cell_type": "code",
     "collapsed": false,
     "input": [
      "range(1, 100, 10)"
     ],
     "language": "python",
     "metadata": {},
     "outputs": [
      {
       "metadata": {},
       "output_type": "pyout",
       "prompt_number": 21,
       "text": [
        "[1, 11, 21, 31, 41, 51, 61, 71, 81, 91]"
       ]
      }
     ],
     "prompt_number": 21
    },
    {
     "cell_type": "code",
     "collapsed": false,
     "input": [],
     "language": "python",
     "metadata": {},
     "outputs": []
    }
   ],
   "metadata": {}
  }
 ]
}