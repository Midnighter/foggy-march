{
 "metadata": {
  "name": "capacity"
 },
 "nbformat": 3,
 "nbformat_minor": 0,
 "worksheets": [
  {
   "cells": [
    {
     "cell_type": "markdown",
     "metadata": {},
     "source": [
      "# Random Walks with Capacity Statistics"
     ]
    },
    {
     "cell_type": "code",
     "collapsed": false,
     "input": [
      "import networkx as nx"
     ],
     "language": "python",
     "metadata": {},
     "outputs": []
    },
    {
     "cell_type": "code",
     "collapsed": false,
     "input": [
      "import sys\n",
      "sys.path.insert(0, \"..\")\n",
      "import foggy"
     ],
     "language": "python",
     "metadata": {},
     "outputs": []
    },
    {
     "cell_type": "code",
     "collapsed": false,
     "input": [
      "network = nx.barabasi_albert_graph(int(2E02), 3)\n",
      "#network = nx.scale_free_graph(int(1E03))\n",
      "#network = nx.fast_gnp_random_graph(int(1E03), 0.01)\n",
      "print len(network)\n",
      "print network.size()\n",
      "print network.is_directed()"
     ],
     "language": "python",
     "metadata": {},
     "outputs": []
    },
    {
     "cell_type": "code",
     "collapsed": false,
     "input": [
      "(probs, nbrs, indices) = foggy.prepare_uniform_walk(network)"
     ],
     "language": "python",
     "metadata": {},
     "outputs": []
    },
    {
     "cell_type": "code",
     "collapsed": false,
     "input": [
      "from IPython.parallel import Client"
     ],
     "language": "python",
     "metadata": {},
     "outputs": []
    },
    {
     "cell_type": "code",
     "collapsed": false,
     "input": [
      "rc = Client()"
     ],
     "language": "python",
     "metadata": {},
     "outputs": []
    },
    {
     "cell_type": "code",
     "collapsed": false,
     "input": [
      "dv = rc.direct_view()\n",
      "lv = rc.load_balanced_view()"
     ],
     "language": "python",
     "metadata": {},
     "outputs": []
    },
    {
     "cell_type": "code",
     "collapsed": false,
     "input": [
      "dv.execute(\"import sys\", block=True);\n",
      "dv.execute(\"sys.path.insert(0, '..')\", block=True);\n",
      "dv.execute(\"import foggy\", block=True);"
     ],
     "language": "python",
     "metadata": {},
     "outputs": []
    },
    {
     "cell_type": "code",
     "collapsed": false,
     "input": [
      "def analysis(activity, buffered):\n",
      "    plt.plot(buffered.sum(axis=0))\n",
      "    plt.xlabel(\"Time $t$\")\n",
      "    plt.ylabel(\"Removed Walkers $N_{d}$\")\n",
      "    plt.show()\n",
      "    plt.plot(buffered.sum(axis=1))\n",
      "    plt.xlabel(\"Node $i$\")\n",
      "    plt.ylabel(\"Total Removed Walkers $N_{d}$\")\n",
      "    plt.show()\n",
      "    mean = activity.mean(axis=1)\n",
      "    std = activity.std(axis=1)\n",
      "    (internal, external) = foggy.internal_dynamics_external_fluctuations(activity)\n",
      "    foggy.internal_external_ratio(internal, external)\n",
      "    foggy.fluctuation_scaling_fit([(mean, std), (mean, internal), (mean, external)], [\"real\", \"internal\", \"external\"])\n",
      "    deg = numpy.zeros(len(network), dtype=int)\n",
      "    for (node, d) in network.degree_iter():\n",
      "        deg[indices[node]] = d\n",
      "    plt.scatter(deg, external / internal)\n",
      "    plt.xlabel(\"Degree $k_{i}$\")\n",
      "    plt.xlabel(\"$\\\\eta_{i}$\")\n",
      "    plt.show()"
     ],
     "language": "python",
     "metadata": {},
     "outputs": []
    },
    {
     "cell_type": "code",
     "collapsed": false,
     "input": [
      "num_walkers = len(network)"
     ],
     "language": "python",
     "metadata": {},
     "outputs": []
    },
    {
     "cell_type": "code",
     "collapsed": false,
     "input": [
      "num_steps = len(network) * 3"
     ],
     "language": "python",
     "metadata": {},
     "outputs": []
    },
    {
     "cell_type": "code",
     "collapsed": false,
     "input": [
      "capacity = numpy.zeros(len(network), dtype=float)\n",
      "#capacity += len(network) * 5\n",
      "for (node, deg) in network.degree_iter():\n",
      "    capacity[indices[node]] = float(deg * 9)"
     ],
     "language": "python",
     "metadata": {},
     "outputs": []
    },
    {
     "cell_type": "code",
     "collapsed": false,
     "input": [
      "(activity, buffered) = foggy.deletory_parallel_march_with_capacity(dv, nbrs, probs, indices.values(),\n",
      "                                                       foggy.UniformInterval(num_walkers, 2 * num_walkers), 100,\n",
      "                                                       num_steps, capacity, lb_view=lv)"
     ],
     "language": "python",
     "metadata": {},
     "outputs": []
    },
    {
     "cell_type": "code",
     "collapsed": false,
     "input": [
      "mean = activity2.mean(axis=1)\n",
      "std = activity2.std(axis=1)\n",
      "(internal, external) = foggy.internal_dynamics_external_fluctuations(activity2)"
     ],
     "language": "python",
     "metadata": {},
     "outputs": []
    },
    {
     "cell_type": "code",
     "collapsed": false,
     "input": [
      "powerlaw.fit(mean)"
     ],
     "language": "python",
     "metadata": {},
     "outputs": []
    },
    {
     "cell_type": "code",
     "collapsed": false,
     "input": [
      "powerlaw.fit(std)"
     ],
     "language": "python",
     "metadata": {},
     "outputs": []
    },
    {
     "cell_type": "code",
     "collapsed": false,
     "input": [
      "powerlaw.fit(internal)"
     ],
     "language": "python",
     "metadata": {},
     "outputs": []
    },
    {
     "cell_type": "code",
     "collapsed": false,
     "input": [
      "powerlaw.fit(external)"
     ],
     "language": "python",
     "metadata": {},
     "outputs": []
    },
    {
     "cell_type": "code",
     "collapsed": false,
     "input": [
      "reload(foggy.walkers)\n",
      "reload(foggy)"
     ],
     "language": "python",
     "metadata": {},
     "outputs": []
    },
    {
     "cell_type": "code",
     "collapsed": false,
     "input": [
      "foggy.fluctuation_scaling_fit([(mean, std), (mean, internal), (mean, external)], [\"real\", \"internal\", \"external\"])"
     ],
     "language": "python",
     "metadata": {},
     "outputs": []
    },
    {
     "cell_type": "code",
     "collapsed": false,
     "input": [
      "analysis(activity, buffered)"
     ],
     "language": "python",
     "metadata": {},
     "outputs": []
    },
    {
     "cell_type": "code",
     "collapsed": false,
     "input": [
      "(activity2, buffered2) = foggy.buffered_parallel_march_with_capacity(dv, nbrs, probs, indices.values(),\n",
      "                                                       foggy.UniformInterval(num_walkers, 2 * num_walkers), 100,\n",
      "                                                       num_steps, capacity, lb_view=lv)"
     ],
     "language": "python",
     "metadata": {},
     "outputs": []
    },
    {
     "cell_type": "code",
     "collapsed": false,
     "input": [
      "analysis(activity2, buffered2)"
     ],
     "language": "python",
     "metadata": {},
     "outputs": []
    }
   ],
   "metadata": {}
  }
 ]
}