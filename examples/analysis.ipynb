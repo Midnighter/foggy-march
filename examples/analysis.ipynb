{
 "metadata": {
  "name": "analysis"
 },
 "nbformat": 3,
 "nbformat_minor": 0,
 "worksheets": [
  {
   "cells": [
    {
     "cell_type": "markdown",
     "metadata": {},
     "source": [
      "# Random Walk Statistics"
     ]
    },
    {
     "cell_type": "code",
     "collapsed": false,
     "input": [
      "import os\n",
      "import sys\n",
      "import numpy\n",
      "import networkx as nx"
     ],
     "language": "python",
     "metadata": {},
     "outputs": []
    },
    {
     "cell_type": "code",
     "collapsed": false,
     "input": [
      "sys.path.insert(0, \"..\")\n",
      "import foggy"
     ],
     "language": "python",
     "metadata": {},
     "outputs": []
    },
    {
     "cell_type": "code",
     "collapsed": false,
     "input": [
      "base_dir = \"results\""
     ],
     "language": "python",
     "metadata": {},
     "outputs": []
    },
    {
     "cell_type": "code",
     "collapsed": false,
     "input": [
      "filename = os.path.join(base_dir, \"network.pkl\")\n",
      "network = nx.read_gpickle(filename)\n",
      "if network.is_directed():\n",
      "    print \"directed network with:\"\n",
      "else:\n",
      "    print \"undirected network with:\"\n",
      "print \"\\t\", len(network), \"nodes\"\n",
      "print \"\\t\", network.size(), \"links\""
     ],
     "language": "python",
     "metadata": {},
     "outputs": []
    },
    {
     "cell_type": "code",
     "collapsed": false,
     "input": [
      "filename = os.path.join(base_dir, \"node2id.pkl\")\n",
      "indices = nx.read_gpickle(filename)"
     ],
     "language": "python",
     "metadata": {},
     "outputs": []
    },
    {
     "cell_type": "markdown",
     "metadata": {},
     "source": [
      "First random walk with a constant number of walkers, that is, one for each node in the network and over 100 time steps. The walkers perform ten times the number of nodes steps."
     ]
    },
    {
     "cell_type": "code",
     "collapsed": false,
     "input": [
      "filename = os.path.join(base_dir, \"uniform_random_walk.npy\")\n",
      "filename = os.path.join(base_dir, \"uniform_random_walk_cut_transient.npy\")\n",
      "filename = os.path.join(base_dir, \"varied_uniform_random_walk.npy\")\n",
      "filename = os.path.join(base_dir, \"varied_uniform_random_walk_cut_transient.npy\")\n",
      "filename = os.path.join(base_dir, \"uniform_random_walk_mu.npy\")\n",
      "filename = os.path.join(base_dir, \"uniform_random_walk_mu_cut_transient.npy\")\n",
      "filename = os.path.join(base_dir, \"varied_uniform_random_walk_mu.npy\")\n",
      "filename = os.path.join(base_dir, \"varied_uniform_random_walk_mu_cut_transient.npy\")"
     ],
     "language": "python",
     "metadata": {},
     "outputs": []
    },
    {
     "cell_type": "code",
     "collapsed": false,
     "input": [
      "activity = numpy.load(filename)"
     ],
     "language": "python",
     "metadata": {},
     "outputs": []
    },
    {
     "cell_type": "code",
     "collapsed": false,
     "input": [
      "mean = activity.mean(axis=1)\n",
      "std = activity.std(axis=1)"
     ],
     "language": "python",
     "metadata": {},
     "outputs": []
    },
    {
     "cell_type": "code",
     "collapsed": false,
     "input": [
      "(internal, external) = foggy.internal_dynamics_external_fluctuations(activity)"
     ],
     "language": "python",
     "metadata": {},
     "outputs": []
    },
    {
     "cell_type": "code",
     "collapsed": false,
     "input": [
      "foggy.fluctuation_scaling_fit([(mean, std), (mean, internal), (mean, external)], [\"real\", \"internal\", \"external\"])"
     ],
     "language": "python",
     "metadata": {},
     "outputs": []
    }
   ],
   "metadata": {}
  }
 ]
}