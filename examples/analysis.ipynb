{
 "metadata": {
  "name": "analysis"
 },
 "nbformat": 3,
 "nbformat_minor": 0,
 "worksheets": [
  {
   "cells": [
    {
     "cell_type": "markdown",
     "metadata": {},
     "source": [
      "# Random Walk Statistics"
     ]
    },
    {
     "cell_type": "code",
     "collapsed": false,
     "input": [
      "import os\n",
      "import sys\n",
      "import numpy\n",
      "import networkx as nx"
     ],
     "language": "python",
     "metadata": {},
     "outputs": []
    },
    {
     "cell_type": "code",
     "collapsed": false,
     "input": [
      "sys.path.insert(0, \"..\")\n",
      "import foggy"
     ],
     "language": "python",
     "metadata": {},
     "outputs": []
    },
    {
     "cell_type": "code",
     "collapsed": false,
     "input": [
      "base_dir = \"results\""
     ],
     "language": "python",
     "metadata": {},
     "outputs": []
    },
    {
     "cell_type": "code",
     "collapsed": false,
     "input": [
      "filename = os.path.join(base_dir, \"network.pkl\")\n",
      "network = nx.read_gpickle(filename)\n",
      "if network.is_directed():\n",
      "    print \"directed network with:\"\n",
      "else:\n",
      "    print \"undirected network with:\"\n",
      "print \"\\t\", len(network), \"nodes\"\n",
      "print \"\\t\", network.size(), \"links\""
     ],
     "language": "python",
     "metadata": {},
     "outputs": []
    },
    {
     "cell_type": "code",
     "collapsed": false,
     "input": [
      "filename = os.path.join(base_dir, \"node2id.pkl\")\n",
      "indices = nx.read_gpickle(filename)"
     ],
     "language": "python",
     "metadata": {},
     "outputs": []
    },
    {
     "cell_type": "markdown",
     "metadata": {},
     "source": [
      "First random walk with a constant number of walkers, that is, one for each node in the network and over 100 time steps. The walkers perform ten times the number of nodes steps."
     ]
    },
    {
     "cell_type": "code",
     "collapsed": false,
     "input": [
      "def analysis(filename):\n",
      "    activity = numpy.load(filename)\n",
      "    mean = activity.mean(axis=1)\n",
      "    std = activity.std(axis=1)\n",
      "    (internal, external) = foggy.internal_dynamics_external_fluctuations(activity)\n",
      "    foggy.internal_external_ratio(internal, external)\n",
      "    foggy.fluctuation_scaling_fit([(mean, std), (mean, internal), (mean, external)], [\"real\", \"internal\", \"external\"])\n",
      "    deg = numpy.zeros(len(network), dtype=int)\n",
      "    for (node, d) in network.degree_iter():\n",
      "        deg[indices[node]] = d\n",
      "    plt.scatter(deg, external / internal)\n",
      "    plt.xlabel(\"Degree $k_{i}$\")\n",
      "    plt.xlabel(\"$\\\\eta_{i}$\")\n",
      "    plt.show()"
     ],
     "language": "python",
     "metadata": {},
     "outputs": []
    },
    {
     "cell_type": "code",
     "collapsed": false,
     "input": [
      "#filename = os.path.join(base_dir, \"uniform_random_walk.npy\")\n",
      "#filename = os.path.join(base_dir, \"uniform_random_walk_cut_transient.npy\")\n",
      "filename = os.path.join(base_dir, \"varied_uniform_random_walk.npy\")\n",
      "#filename = os.path.join(base_dir, \"varied_uniform_random_walk_cut_transient.npy\")\n",
      "#filename = os.path.join(base_dir, \"uniform_random_walk_mu.npy\")\n",
      "#filename = os.path.join(base_dir, \"uniform_random_walk_mu_cut_transient.npy\")\n",
      "#filename = os.path.join(base_dir, \"varied_uniform_random_walk_mu.npy\")\n",
      "#filename = os.path.join(base_dir, \"varied_uniform_random_walk_mu_cut_transient.npy\")"
     ],
     "language": "python",
     "metadata": {},
     "outputs": []
    },
    {
     "cell_type": "code",
     "collapsed": false,
     "input": [
      "analysis(filename)"
     ],
     "language": "python",
     "metadata": {},
     "outputs": []
    },
    {
     "cell_type": "markdown",
     "metadata": {},
     "source": [
      "## Defer Analysis to R"
     ]
    },
    {
     "cell_type": "code",
     "collapsed": false,
     "input": [
      "from rpy2.robjects import pandas2ri"
     ],
     "language": "python",
     "metadata": {},
     "outputs": []
    },
    {
     "cell_type": "code",
     "collapsed": false,
     "input": [
      "pandas2ri.activate()"
     ],
     "language": "python",
     "metadata": {},
     "outputs": []
    },
    {
     "cell_type": "code",
     "collapsed": false,
     "input": [
      "import pandas"
     ],
     "language": "python",
     "metadata": {},
     "outputs": []
    },
    {
     "cell_type": "code",
     "collapsed": false,
     "input": [
      "def dataframe(filename):\n",
      "    activity = numpy.load(filename)\n",
      "    mean = activity.mean(axis=1)\n",
      "    std = activity.std(axis=1)\n",
      "    (internal, external) = foggy.internal_dynamics_external_fluctuations(activity)\n",
      "    return pandas.DataFrame(dict(mean=mean, std=std, internal=internal, external=external))"
     ],
     "language": "python",
     "metadata": {},
     "outputs": []
    },
    {
     "cell_type": "code",
     "collapsed": false,
     "input": [
      "df = dataframe(filename)"
     ],
     "language": "python",
     "metadata": {},
     "outputs": []
    },
    {
     "cell_type": "code",
     "collapsed": false,
     "input": [
      "df.to_csv(\"test.csv\", index=False)"
     ],
     "language": "python",
     "metadata": {},
     "outputs": []
    }
   ],
   "metadata": {}
  }
 ]
}