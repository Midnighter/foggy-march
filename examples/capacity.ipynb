{
 "metadata": {
  "name": "capacity"
 },
 "nbformat": 3,
 "nbformat_minor": 0,
 "worksheets": [
  {
   "cells": [
    {
     "cell_type": "markdown",
     "metadata": {},
     "source": [
      "# Random Walks with Capacity Statistics"
     ]
    },
    {
     "cell_type": "code",
     "collapsed": false,
     "input": [
      "import networkx as nx"
     ],
     "language": "python",
     "metadata": {},
     "outputs": []
    },
    {
     "cell_type": "code",
     "collapsed": false,
     "input": [
      "import sys\n",
      "sys.path.insert(0, \"..\")\n",
      "import foggy"
     ],
     "language": "python",
     "metadata": {},
     "outputs": []
    },
    {
     "cell_type": "code",
     "collapsed": false,
     "input": [
      "network = nx.barabasi_albert_graph(int(1E02), 3)\n",
      "#network = nx.scale_free_graph(int(1E03))\n",
      "#network = nx.fast_gnp_random_graph(int(1E03), 0.01)\n",
      "print len(network)\n",
      "print network.size()\n",
      "print network.is_directed()"
     ],
     "language": "python",
     "metadata": {},
     "outputs": []
    },
    {
     "cell_type": "code",
     "collapsed": false,
     "input": [
      "(probs, nbrs, indices) = foggy.prepare_uniform_walk(network)"
     ],
     "language": "python",
     "metadata": {},
     "outputs": []
    },
    {
     "cell_type": "code",
     "collapsed": false,
     "input": [
      "from IPython.parallel import Client"
     ],
     "language": "python",
     "metadata": {},
     "outputs": []
    },
    {
     "cell_type": "code",
     "collapsed": false,
     "input": [
      "rc = Client()"
     ],
     "language": "python",
     "metadata": {},
     "outputs": []
    },
    {
     "cell_type": "code",
     "collapsed": false,
     "input": [
      "dv = rc.direct_view()\n",
      "lv = rc.load_balanced_view()"
     ],
     "language": "python",
     "metadata": {},
     "outputs": []
    },
    {
     "cell_type": "code",
     "collapsed": false,
     "input": [
      "dv.execute(\"import sys\", block=True);\n",
      "dv.execute(\"sys.path.insert(0, '..')\", block=True);\n",
      "dv.execute(\"import foggy\", block=True);"
     ],
     "language": "python",
     "metadata": {},
     "outputs": []
    },
    {
     "cell_type": "code",
     "collapsed": false,
     "input": [
      "(activity, buffered) = foggy.buffered_parallel_march_with_capacity(dv, nbrs, probs, indices.values(),\n",
      "                                                       foggy.UniformInterval(len(network)), 100, len(network) * 2,\n",
      "                                                       [len(network) * 2] * len(network))"
     ],
     "language": "python",
     "metadata": {},
     "outputs": []
    },
    {
     "cell_type": "code",
     "collapsed": false,
     "input": [
      "plt.plot(buffered)\n",
      "plt.show()"
     ],
     "language": "python",
     "metadata": {},
     "outputs": []
    },
    {
     "cell_type": "code",
     "collapsed": false,
     "input": [
      "mean = activity.mean(axis=1)\n",
      "std = activity.std(axis=1)"
     ],
     "language": "python",
     "metadata": {},
     "outputs": []
    },
    {
     "cell_type": "code",
     "collapsed": false,
     "input": [
      "(internal, external) = foggy.internal_dynamics_external_fluctuations(activity)"
     ],
     "language": "python",
     "metadata": {},
     "outputs": []
    },
    {
     "cell_type": "code",
     "collapsed": false,
     "input": [
      "foggy.fluctuation_scaling_fit([(mean, std), (mean, internal), (mean, external)], [\"real\", \"internal\", \"external\"], loc_modifier=1.1)"
     ],
     "language": "python",
     "metadata": {},
     "outputs": []
    },
    {
     "cell_type": "code",
     "collapsed": false,
     "input": [
      "(activity2, buffered2) = foggy.buffered_parallel_march_with_capacity(dv, nbrs, probs, indices.values(),\n",
      "                                                       foggy.UniformInterval(len(network), len(network) * 2), 100, len(network) * 2,\n",
      "                                                       [len(network) * 2] * len(network))"
     ],
     "language": "python",
     "metadata": {},
     "outputs": []
    },
    {
     "cell_type": "code",
     "collapsed": false,
     "input": [
      "plt.plot(buffered2)\n",
      "plt.show()"
     ],
     "language": "python",
     "metadata": {},
     "outputs": []
    },
    {
     "cell_type": "code",
     "collapsed": false,
     "input": [
      "mean2 = activity2.mean(axis=1)\n",
      "std2 = activity2.std(axis=1)"
     ],
     "language": "python",
     "metadata": {},
     "outputs": []
    },
    {
     "cell_type": "code",
     "collapsed": false,
     "input": [
      "(internal2, external2) = foggy.internal_dynamics_external_fluctuations(activity2)"
     ],
     "language": "python",
     "metadata": {},
     "outputs": []
    },
    {
     "cell_type": "code",
     "collapsed": false,
     "input": [
      "foggy.fluctuation_scaling_fit([(mean2, std2), (mean2, internal2), (mean2, external2)], [\"real\", \"internal\", \"external\"], loc_modifier=1.1)"
     ],
     "language": "python",
     "metadata": {},
     "outputs": []
    },
    {
     "cell_type": "code",
     "collapsed": false,
     "input": [
      "foggy.internal_external_ratio(internal, external)"
     ],
     "language": "python",
     "metadata": {},
     "outputs": []
    }
   ],
   "metadata": {}
  }
 ]
}