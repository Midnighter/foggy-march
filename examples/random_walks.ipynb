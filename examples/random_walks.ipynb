{
 "metadata": {
  "name": "random_walks"
 },
 "nbformat": 3,
 "nbformat_minor": 0,
 "worksheets": [
  {
   "cells": [
    {
     "cell_type": "markdown",
     "metadata": {},
     "source": [
      "# Random Walk Statistics"
     ]
    },
    {
     "cell_type": "code",
     "collapsed": false,
     "input": [
      "import networkx as nx"
     ],
     "language": "python",
     "metadata": {},
     "outputs": []
    },
    {
     "cell_type": "code",
     "collapsed": false,
     "input": [
      "import walkers"
     ],
     "language": "python",
     "metadata": {},
     "outputs": []
    },
    {
     "cell_type": "code",
     "collapsed": false,
     "input": [
      "network = nx.barabasi_albert_graph(int(1E03), 3)\n",
      "#network = nx.scale_free_graph(int(1E03))\n",
      "#network = nx.fast_gnp_random_graph(int(1E03), 0.01)\n",
      "print len(network)\n",
      "print network.size()\n",
      "print network.is_directed()"
     ],
     "language": "python",
     "metadata": {},
     "outputs": []
    },
    {
     "cell_type": "code",
     "collapsed": false,
     "input": [
      "(probs, nbrs, indices) = walkers.prepare_uniform_walk(network)"
     ],
     "language": "python",
     "metadata": {},
     "outputs": []
    },
    {
     "cell_type": "code",
     "collapsed": false,
     "input": [
      "from IPython.parallel import Client"
     ],
     "language": "python",
     "metadata": {},
     "outputs": []
    },
    {
     "cell_type": "code",
     "collapsed": false,
     "input": [
      "rc = Client()"
     ],
     "language": "python",
     "metadata": {},
     "outputs": []
    },
    {
     "cell_type": "code",
     "collapsed": false,
     "input": [
      "dv = rc.direct_view()\n",
      "lv = rc.load_balanced_view()"
     ],
     "language": "python",
     "metadata": {},
     "outputs": []
    },
    {
     "cell_type": "code",
     "collapsed": false,
     "input": [
      "dv.execute(\"import walkers\", block=True);"
     ],
     "language": "python",
     "metadata": {},
     "outputs": []
    },
    {
     "cell_type": "code",
     "collapsed": false,
     "input": [
      "import numpy.linalg\n",
      "#import scipy.stats as stats\n",
      "from itertools import izip"
     ],
     "language": "python",
     "metadata": {},
     "outputs": []
    },
    {
     "cell_type": "code",
     "collapsed": false,
     "input": [
      "BREWER_SET1 = [\"#E41A1C\", \"#377EB8\", \"#4DAF4A\", \"#984EA3\", \"#FF7F00\", \"#FFFF33\",\n",
      "        \"#A65628\", \"#F781BF\", \"#8DD3C7\"]"
     ],
     "language": "python",
     "metadata": {},
     "outputs": []
    },
    {
     "cell_type": "code",
     "collapsed": false,
     "input": [
      "def fluctuation_scaling_fit(data, labels, loc_modifier=5.0):\n",
      "    glob_x_min = numpy.inf\n",
      "    glob_x_max = -numpy.inf\n",
      "    glob_y_min = numpy.inf\n",
      "    fits = list()\n",
      "    plt.xscale(\"log\")\n",
      "    plt.yscale(\"log\")\n",
      "    for ((x_loc, y_loc), label, colour) in izip(data, labels, BREWER_SET1):\n",
      "        mask = numpy.isfinite(x_loc) & (x_loc > 0.0) & numpy.isfinite(y_loc) & (y_loc > 0.0)\n",
      "        x_loc = x_loc[mask]\n",
      "        y_loc = y_loc[mask]\n",
      "        if len(x_loc) == 0 or len(y_loc) == 0:\n",
      "            continue\n",
      "        x_min = x_loc.min()\n",
      "        x_max = x_loc.max()\n",
      "        y_min = y_loc.min()\n",
      "        y_max = y_loc.max()\n",
      "        if x_min < glob_x_min:\n",
      "            glob_x_min = x_min\n",
      "        if x_max > glob_x_max:\n",
      "            glob_x_max = x_max\n",
      "        if y_min < glob_y_min:\n",
      "            glob_y_min = y_min\n",
      "        plt.scatter(x_loc, y_loc, label=label, color=colour)\n",
      "        x_log = numpy.log10(x_loc)\n",
      "        y_log = numpy.log10(y_loc)\n",
      "        (slope, r, rank, s) = numpy.linalg.lstsq(x_log[:, numpy.newaxis], y_log)\n",
      "        fit_y = numpy.power(x_loc, slope)\n",
      "#       (slope, intercept, r, p, err) = stats.linregress(x_log, y_log)\n",
      "#       fit_y = numpy.power(x_loc, slope) * numpy.power(10.0, intercept)\n",
      "        plt.plot(x_loc, fit_y, color=colour)\n",
      "        fits.append([x_max / 10.0, y_max / 10.0, slope, colour])\n",
      "    for i in xrange(1, len(fits)):\n",
      "        while any((items[1] / fits[i][1]) < loc_modifier for items in fits[0: i]):\n",
      "            fits[i][1] /= loc_modifier\n",
      "    for (lab_x_loc, lab_y_loc, slope, colour) in fits:\n",
      "        plt.text(lab_x_loc, lab_y_loc, \"$\\\\alpha = %.3G$\" % slope, color=colour)\n",
      "#       plt.text(lab_xloc, lab_yloc, \"$\\\\alpha = %.3G$\\n$R^{2} = %.3G$\\n$p = %.3G$\\ns.e.$= %.3G$\" % (slope, numpy.power(r, 2.0), p, err))\n",
      "    plt.xlabel(\"$<f_{i}>$\")\n",
      "    plt.ylabel(\"$\\\\sigma_{i}$\")\n",
      "    plt.legend()\n",
      "    plt.show()"
     ],
     "language": "python",
     "metadata": {},
     "outputs": []
    },
    {
     "cell_type": "markdown",
     "metadata": {},
     "source": [
      "First random walk with a constant number of walkers, that is, one for each node in the network and over 100 time steps. The walkers perform ten times the number of nodes steps."
     ]
    },
    {
     "cell_type": "code",
     "collapsed": false,
     "input": [
      "(it_mean, it_std) = walkers.iterative_parallel_march(dv, nbrs, probs, range(len(nbrs)), walkers.UniformInterval(len(network)),\n",
      "        100, len(network) * 10, lb_view=lv)"
     ],
     "language": "python",
     "metadata": {},
     "outputs": []
    },
    {
     "cell_type": "code",
     "collapsed": false,
     "input": [
      "(it_mean_trans, it_std_trans) = walkers.iterative_parallel_march(dv, nbrs, probs, range(len(nbrs)), walkers.UniformInterval(len(network)),\n",
      "        100, len(network) * 10, transient=1000, lb_view=lv)"
     ],
     "language": "python",
     "metadata": {},
     "outputs": []
    },
    {
     "cell_type": "code",
     "collapsed": false,
     "input": [
      "fluctuation_scaling_fit([(it_mean, it_std), (it_mean_trans, it_std_trans)], [\"iterative\", \"cut-off 1000\"])"
     ],
     "language": "python",
     "metadata": {},
     "outputs": []
    },
    {
     "cell_type": "markdown",
     "metadata": {},
     "source": [
      "Second random walk with a significant variation of the number of walkers in each time step, i.e., the variation is twice the mean."
     ]
    },
    {
     "cell_type": "code",
     "collapsed": false,
     "input": [
      "(mean2, std2) = walkers.iterative_parallel_march(dv, nbrs, probs, range(len(nbrs)), walkers.UniformInterval(len(network), len(network) * 2),\n",
      "        100, len(network) * 10, lb_view=lv)"
     ],
     "language": "python",
     "metadata": {},
     "outputs": []
    },
    {
     "cell_type": "code",
     "collapsed": false,
     "input": [
      "variance_scaling(mean2, std2)"
     ],
     "language": "python",
     "metadata": {},
     "outputs": []
    },
    {
     "cell_type": "markdown",
     "metadata": {},
     "source": [
      "Third random walk with no variation of the number of walkers in each time step but with a degree-dependent value for each node that should lead to a power-law scaling with $\\alpha = 0.65$."
     ]
    },
    {
     "cell_type": "code",
     "collapsed": false,
     "input": [
      "(mean3, std3) = walkers.iterative_parallel_march(dv, nbrs, probs, range(len(nbrs)), walkers.UniformInterval(len(network)),\n",
      "        100, len(network) * 10, assessor=walkers.DegreeDependentValue(network, indices, mu=walkers.compute_mu(0.65)), lb_view=lv)"
     ],
     "language": "python",
     "metadata": {},
     "outputs": []
    },
    {
     "cell_type": "code",
     "collapsed": false,
     "input": [
      "variance_scaling(mean3, std3)"
     ],
     "language": "python",
     "metadata": {},
     "outputs": []
    }
   ],
   "metadata": {}
  }
 ]
}