{
 "metadata": {
  "name": "random_walks"
 },
 "nbformat": 3,
 "nbformat_minor": 0,
 "worksheets": [
  {
   "cells": [
    {
     "cell_type": "markdown",
     "metadata": {},
     "source": [
      "# Random Walk Statistics"
     ]
    },
    {
     "cell_type": "code",
     "collapsed": false,
     "input": [
      "import networkx as nx"
     ],
     "language": "python",
     "metadata": {},
     "outputs": []
    },
    {
     "cell_type": "code",
     "collapsed": false,
     "input": [
      "import walkers"
     ],
     "language": "python",
     "metadata": {},
     "outputs": []
    },
    {
     "cell_type": "code",
     "collapsed": false,
     "input": [
      "#network = nx.barabasi_albert_graph(int(1E03), 3)\n",
      "network = nx.scale_free_graph(int(1E03))\n",
      "#network = nx.fast_gnp_random_graph(int(1E03), 0.01)\n",
      "print len(network)\n",
      "print network.size()"
     ],
     "language": "python",
     "metadata": {},
     "outputs": []
    },
    {
     "cell_type": "code",
     "collapsed": false,
     "input": [
      "(probs, nbrs, indices) = walkers.prepare_uniform_walk(network)"
     ],
     "language": "python",
     "metadata": {},
     "outputs": []
    },
    {
     "cell_type": "code",
     "collapsed": false,
     "input": [
      "from IPython.parallel import Client"
     ],
     "language": "python",
     "metadata": {},
     "outputs": []
    },
    {
     "cell_type": "code",
     "collapsed": false,
     "input": [
      "rc = Client()"
     ],
     "language": "python",
     "metadata": {},
     "outputs": []
    },
    {
     "cell_type": "code",
     "collapsed": false,
     "input": [
      "dv = rc.direct_view()\n",
      "lv = rc.load_balanced_view()"
     ],
     "language": "python",
     "metadata": {},
     "outputs": []
    },
    {
     "cell_type": "code",
     "collapsed": false,
     "input": [
      "dv.execute(\"import walkers\", block=True)"
     ],
     "language": "python",
     "metadata": {},
     "outputs": []
    },
    {
     "cell_type": "markdown",
     "metadata": {},
     "source": [
      "First random walk with a constant number of walkers, that is, one for each node in the network and over 100 time steps. The walkers perform ten times the number of nodes steps."
     ]
    },
    {
     "cell_type": "code",
     "collapsed": false,
     "input": [
      "(mean, std) = walkers.iterative_parallel_march(dv, nbrs, probs, range(len(nbrs)), walkers.UniformInterval(len(network)),\n",
      "        100, len(network) * 10, lb_view=lv)"
     ],
     "language": "python",
     "metadata": {},
     "outputs": []
    },
    {
     "cell_type": "code",
     "collapsed": false,
     "input": [
      "import numpy.linalg\n",
      "#import scipy.stats as stats"
     ],
     "language": "python",
     "metadata": {},
     "outputs": []
    },
    {
     "cell_type": "code",
     "collapsed": false,
     "input": [
      "def variance_scaling(mean, std, lab_xloc=None, lab_yloc=None):\n",
      "    mask = numpy.isfinite(mean) & (mean > 0.0) & numpy.isfinite(std) & (std > 0.0)\n",
      "    mean = mean[mask]\n",
      "    std = std[mask]\n",
      "    mean_log = numpy.log10(mean)\n",
      "    std_log = numpy.log10(std)\n",
      "    (slope, r, rank, s) = numpy.linalg.lstsq(mean_log[:, numpy.newaxis],\n",
      "            std_log)\n",
      "    fit_y = numpy.power(mean, slope)\n",
      "#    (slope, intercept, r, p, err) = stats.linregress(mean_log, std_log)\n",
      "#    fit_y = numpy.power(mean, slope) * numpy.power(10.0, intercept)\n",
      "    plt.scatter(mean, std, color=\"blue\")\n",
      "    plt.plot(mean, fit_y, color=\"red\")\n",
      "    plt.xscale(\"log\")\n",
      "    plt.yscale(\"log\")\n",
      "    plt.xlabel(\"$<f_{i}>$\")\n",
      "    plt.ylabel(\"$\\\\sigma_{i}$\")\n",
      "    y_min = std.min()\n",
      "    y_max = std.max()\n",
      "    x_min = mean.min()\n",
      "    x_max = mean.max()\n",
      "    if not lab_xloc:\n",
      "        lab_xloc = x_max\n",
      "        lab_xloc /= 10.0\n",
      "    if not lab_yloc:\n",
      "        lab_yloc = y_max\n",
      "        lab_yloc /= 10.0\n",
      "    plt.text(lab_xloc, lab_yloc, \"$\\\\alpha = %.3G$\" % slope)\n",
      "#    plt.text(lab_xloc, lab_yloc, \"$\\\\alpha = %.3G$\\n$R^{2} = %.3G$\\n$p = %.3G$\\ns.e.$= %.3G$\" % (slope, numpy.power(r, 2.0), p, err))\n",
      "    plt.show()"
     ],
     "language": "python",
     "metadata": {},
     "outputs": []
    },
    {
     "cell_type": "code",
     "collapsed": false,
     "input": [
      "variance_scaling(mean, std)"
     ],
     "language": "python",
     "metadata": {},
     "outputs": []
    },
    {
     "cell_type": "markdown",
     "metadata": {},
     "source": [
      "Second random walk with a significant variation of the number of walkers in each time step, i.e., the variation is twice the mean."
     ]
    },
    {
     "cell_type": "code",
     "collapsed": false,
     "input": [
      "(mean2, std2) = walkers.iterative_parallel_march(dv, nbrs, probs, range(len(nbrs)), walkers.UniformInterval(len(network), len(network) * 2),\n",
      "        100, len(network) * 10, lb_view=lv)"
     ],
     "language": "python",
     "metadata": {},
     "outputs": []
    },
    {
     "cell_type": "code",
     "collapsed": false,
     "input": [
      "variance_scaling(mean2, std2)"
     ],
     "language": "python",
     "metadata": {},
     "outputs": []
    },
    {
     "cell_type": "markdown",
     "metadata": {},
     "source": [
      "Third random walk with no variation of the number of walkers in each time step but with a degree-dependent value for each node that should lead to a power-law scaling with $\\alpha = 0.65$."
     ]
    },
    {
     "cell_type": "code",
     "collapsed": false,
     "input": [
      "(mean3, std3) = walkers.iterative_parallel_march(dv, nbrs, probs, range(len(nbrs)), walkers.UniformInterval(len(network)),\n",
      "        100, len(network) * 10, assessor=walkers.DegreeDependentValue(network, indices, mu=walkers.compute_mu(0.65)), lb_view=lv)"
     ],
     "language": "python",
     "metadata": {},
     "outputs": []
    },
    {
     "cell_type": "code",
     "collapsed": false,
     "input": [
      "variance_scaling(mean3, std3)"
     ],
     "language": "python",
     "metadata": {},
     "outputs": []
    }
   ],
   "metadata": {}
  }
 ]
}